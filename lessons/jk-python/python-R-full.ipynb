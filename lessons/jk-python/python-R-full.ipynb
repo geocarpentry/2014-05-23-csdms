{
 "metadata": {
  "name": ""
 },
 "nbformat": 3,
 "nbformat_minor": 0,
 "worksheets": [
  {
   "cells": [
    {
     "cell_type": "markdown",
     "metadata": {},
     "source": [
      "# Python and R: The best of both worlds\n",
      "\n",
      "This short tutorial will give you a taste of how Python and R can work together.  It is quite easy to combine the computational beauty and efficiency of Python with the statistical power of R.  We are going to be using a package called `rpy2`.  This is a brief tutorial so for more information see http://rpy.sourceforge.net/rpy2/doc-dev/html/introduction.html "
     ]
    },
    {
     "cell_type": "markdown",
     "metadata": {},
     "source": [
      "## 1. Setup\n",
      "\n",
      "You must have R installed on your computer for this to work.\n",
      "\n",
      "Before you get started you need to a download a package called `rpy2`.  This package allows you to run R code directly with Python.  At the command line do the following\n",
      "\n",
      "1. Type `sudo pip install rpy2`\n",
      "2. Enter your password if prompted and hit `Enter`. It may not seem like you are typing anything but you are!\n",
      "3. If everything worked you should see something like `Successfully installed rpy2`\n",
      "\n",
      "You are now ready to go!\n"
     ]
    },
    {
     "cell_type": "markdown",
     "metadata": {},
     "source": [
      "## 2. R in a python\n",
      "\n",
      "One way to use R in Python is to call it directly in your scripts"
     ]
    },
    {
     "cell_type": "code",
     "collapsed": false,
     "input": [
      "%pylab inline\n",
      "\n",
      "# First import the rpy2 package\n",
      "import rpy2.robjects as robjects\n",
      "R = robjects.r"
     ],
     "language": "python",
     "metadata": {},
     "outputs": []
    },
    {
     "cell_type": "markdown",
     "metadata": {},
     "source": [
      "Fit the linear model $Y = \\beta_0 + \\beta_1x + \\epsilon$"
     ]
    },
    {
     "cell_type": "code",
     "collapsed": false,
     "input": [
      "# Fit a linear model in R. You can type any code you want with this command\n",
      "fit_1 = R(\"\"\"\n",
      "    \n",
      "    # Make set of x and y data\n",
      "    x <- seq(1, 100, 1)\n",
      "    y <- rnorm(100, mean=2 * x + 4, sd=40)\n",
      "    \n",
      "    # Fit a linear model. Like an R function, the last item is returned \n",
      "    fit1 <- lm(y ~ x)\n",
      "    \"\"\")\n",
      "\n",
      "# Use Pythons print statment to \"pretty\" print just like you see in R\n",
      "print fit_1"
     ],
     "language": "python",
     "metadata": {},
     "outputs": []
    },
    {
     "cell_type": "code",
     "collapsed": false,
     "input": [
      "# You can pull out parts of the model just like using the fit1$coefficients in R\n",
      "print fit_1.rx('coefficients')\n",
      "\n",
      "intercept = fit_1.rx('coefficients')[0][0]\n",
      "print intercept"
     ],
     "language": "python",
     "metadata": {},
     "outputs": []
    },
    {
     "cell_type": "markdown",
     "metadata": {},
     "source": [
      "**Note**: You can access any variable or function in the R namespace using the `R.` command. Keep in mind we defined R = robjects.r as the beginning of the script!"
     ]
    },
    {
     "cell_type": "code",
     "collapsed": false,
     "input": [
      "# You can access R objects in the R namespace. MIND IS BLOWN!\n",
      "print R['fit1']\n",
      "print R['x']\n",
      "print R.summary(R.fit1)"
     ],
     "language": "python",
     "metadata": {},
     "outputs": []
    },
    {
     "cell_type": "markdown",
     "metadata": {},
     "source": [
      "### 2.1 Use R functions in Python\n",
      "\n",
      "I love R's random number generators. Let's pull one into the Python namespace\n"
     ]
    },
    {
     "cell_type": "code",
     "collapsed": false,
     "input": [
      "# Pull the random normal number generator into Python\n",
      "rnorm = R['rnorm']\n",
      "\n",
      "# Use it like any old function\n",
      "rand_nums = rnorm(10, mean = 5, sd = 20)\n",
      "print type(rand_nums); print rand_nums"
     ],
     "language": "python",
     "metadata": {},
     "outputs": []
    },
    {
     "cell_type": "code",
     "collapsed": false,
     "input": [
      "# Easily convert to a Python array\n",
      "pyarray = np.array(rand_nums)\n",
      "print type(pyarray); print pyarray"
     ],
     "language": "python",
     "metadata": {},
     "outputs": []
    },
    {
     "cell_type": "markdown",
     "metadata": {},
     "source": [
      "**NOTE**: You still need to pass a valid R vector into the R function"
     ]
    },
    {
     "cell_type": "code",
     "collapsed": false,
     "input": [
      "# This doesn't work\n",
      "#R.sample(pyarray, 5)\n",
      "\n",
      "# This works fine\n",
      "print R.sample(rand_nums, 5)"
     ],
     "language": "python",
     "metadata": {},
     "outputs": []
    },
    {
     "cell_type": "markdown",
     "metadata": {},
     "source": [
      "## 2 The IPython Notebook and R\n",
      "\n",
      "Using the notebook, you can fluidly switch between cells that are R and Python.  We are going to use something called \"rmagic\" to do this."
     ]
    },
    {
     "cell_type": "code",
     "collapsed": false,
     "input": [
      "# Load in rmagic \n",
      "%load_ext rmagic"
     ],
     "language": "python",
     "metadata": {},
     "outputs": []
    },
    {
     "cell_type": "code",
     "collapsed": false,
     "input": [
      "%%R\n",
      "# This whole cell is now pure R code\n",
      "\n",
      "# Make an R function\n",
      "add_stuff = function(x,y){\n",
      "    x + y\n",
      "}\n",
      "\n",
      "# Draw some random numbers from an exponential\n",
      "nums = rexp(20, rate=3)"
     ],
     "language": "python",
     "metadata": {},
     "outputs": []
    },
    {
     "cell_type": "markdown",
     "metadata": {},
     "source": [
      "**CHECK IT OUT!** Anything done in the \"magic\" cell is now avaailable in your R namespace"
     ]
    },
    {
     "cell_type": "code",
     "collapsed": false,
     "input": [
      "# These variables and functions are available in your R namespace\n",
      "print R.add_stuff(4,5)\n",
      "print R.nums"
     ],
     "language": "python",
     "metadata": {},
     "outputs": []
    },
    {
     "cell_type": "markdown",
     "metadata": {},
     "source": [
      "You can also have your magic cells output directly to Python by using the `%%R -o` or `%%R -d` command (remember the command line flags?)"
     ]
    },
    {
     "cell_type": "code",
     "collapsed": false,
     "input": [
      "%%R -o mydata\n",
      "# Return a R vector called mydata to the Python and make it a numpy array\n",
      "\n",
      "mydata = rnorm(5)\n"
     ],
     "language": "python",
     "metadata": {},
     "outputs": []
    },
    {
     "cell_type": "code",
     "collapsed": false,
     "input": [
      "# mydata is now in the Python namespace and the R namespace\n",
      "print type(mydata); print mydata\n",
      "print type(R.mydata); print R.mydata"
     ],
     "language": "python",
     "metadata": {},
     "outputs": []
    },
    {
     "cell_type": "code",
     "collapsed": false,
     "input": [
      "%%R\n",
      "# Plot with R in Python\n",
      "\n",
      "# Remember you defined x and y before and fit them to a linear model\n",
      "par(mfrow=c(1, 2))\n",
      "\n",
      "# Make residual plot\n",
      "plot(predict(fit1), fit1$residuals)\n",
      "abline(h=0)\n",
      "\n",
      "# Regression plot\n",
      "plot(x, y)\n",
      "lines(x, predict(fit1))\n"
     ],
     "language": "python",
     "metadata": {},
     "outputs": []
    },
    {
     "cell_type": "markdown",
     "metadata": {},
     "source": [
      "## Conclusion\n",
      "\n",
      "Python is not an insecure language. It readily gives you all the functionality of R in addition to its own limitless power.  Combining the two you can use both cutting edge statistics and a beautiful computing language.\n",
      "\n",
      "\n",
      "Keep in mind, Python's own stats packages are pretty spectacular.  Check out some of what Python has to offer in statistics in **scipy.stats** http://docs.scipy.org/doc/scipy/reference/stats.html and **statsmodels** (http://statsmodels.sourceforge.net/)"
     ]
    },
    {
     "cell_type": "code",
     "collapsed": false,
     "input": [
      "# The Zen of Python\n",
      "import this"
     ],
     "language": "python",
     "metadata": {},
     "outputs": []
    }
   ],
   "metadata": {}
  }
 ]
}